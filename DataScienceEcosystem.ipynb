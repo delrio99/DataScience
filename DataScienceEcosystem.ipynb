{
 "cells": [
  {
   "cell_type": "markdown",
   "id": "a7a34497-6fff-4b59-98e4-05948340cfbc",
   "metadata": {},
   "source": [
    "#  Data Science Tools and Ecosystem"
   ]
  },
  {
   "cell_type": "markdown",
   "id": "b7c6c8d4-9981-4f23-8971-180c4ccc6166",
   "metadata": {},
   "source": [
    "In this notebook, Data Science Tools and Ecosystems are summerized. Some code cells and markdown cells will be created."
   ]
  },
  {
   "cell_type": "markdown",
   "id": "8f6dc223-0205-43dc-9d56-d4cc7c119934",
   "metadata": {},
   "source": [
    "Some of the popular languages data scientist use are\n",
    "1. Python\n",
    "2. R\n",
    "3. Stata\n"
   ]
  },
  {
   "cell_type": "markdown",
   "id": "8c9e78ad-eb2a-4d98-afc1-f9b95f0fe435",
   "metadata": {
    "scrolled": true
   },
   "source": [
    "some of data science libraries are;\n",
    "1. Pandas\n",
    "2. Mathplotlib\n",
    "3. Pytourch \n"
   ]
  },
  {
   "cell_type": "markdown",
   "id": "3caa3921-374f-48bf-a5af-3021fb653083",
   "metadata": {},
   "source": [
    "| Data science tools|\n",
    "|----------------------|\n",
    "| Python | \n",
    "|Stata | \n",
    "|Jupyter|\n",
    "|R studio|"
   ]
  },
  {
   "cell_type": "markdown",
   "id": "9c42060d-311c-4722-982f-dc414f775159",
   "metadata": {},
   "source": [
    "Some arithmetic expressions are the multiplication(*) and addition(+) "
   ]
  },
  {
   "cell_type": "code",
   "execution_count": 1,
   "id": "a747f17c-f268-4fb0-a356-9d1bfc2c2a2e",
   "metadata": {},
   "outputs": [
    {
     "name": "stdout",
     "output_type": "stream",
     "text": [
      "6\n",
      "5\n"
     ]
    }
   ],
   "source": [
    "x=2\n",
    "y=3\n",
    "a=x*y\n",
    "b=x+y\n",
    "print(a)\n",
    "print(b)"
   ]
  },
  {
   "cell_type": "code",
   "execution_count": 11,
   "id": "344438b7-283b-460a-bb58-e6c09d091a33",
   "metadata": {},
   "outputs": [
    {
     "name": "stdin",
     "output_type": "stream",
     "text": [
      "Enter Number 360\n"
     ]
    },
    {
     "name": "stdout",
     "output_type": "stream",
     "text": [
      "6\n"
     ]
    }
   ],
   "source": [
    "x=input('Enter Number')\n",
    "y=int(x)\n",
    "hrs=y//60\n",
    "print(hrs)\n"
   ]
  },
  {
   "cell_type": "markdown",
   "id": "bdc944e1-8a33-4253-97e6-78bb1f449d4d",
   "metadata": {},
   "source": [
    "My objectives are to be \n",
    "Skilled in Languages such as Python and R\n",
    "Learn the fundamentals of data science\n",
    "Become a data scientist one day."
   ]
  },
  {
   "cell_type": "code",
   "execution_count": null,
   "id": "29d3b530-b51b-43e3-a89f-7fc6c302f21b",
   "metadata": {},
   "outputs": [],
   "source": [
    "Notebook by ALbert Okyere.\n"
   ]
  }
 ],
 "metadata": {
  "kernelspec": {
   "display_name": "Python 3 (ipykernel)",
   "language": "python",
   "name": "python3"
  },
  "language_info": {
   "codemirror_mode": {
    "name": "ipython",
    "version": 3
   },
   "file_extension": ".py",
   "mimetype": "text/x-python",
   "name": "python",
   "nbconvert_exporter": "python",
   "pygments_lexer": "ipython3",
   "version": "3.12.4"
  }
 },
 "nbformat": 4,
 "nbformat_minor": 5
}
